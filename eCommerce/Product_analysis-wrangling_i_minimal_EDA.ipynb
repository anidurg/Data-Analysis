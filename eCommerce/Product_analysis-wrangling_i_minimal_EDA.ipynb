{
 "cells": [
  {
   "cell_type": "code",
   "execution_count": 1,
   "id": "ec1a6536",
   "metadata": {},
   "outputs": [],
   "source": [
    "import pandas as pd\n",
    "import numpy as np\n",
    "import matplotlib.pyplot as plt\n",
    "import seaborn as sns\n",
    "from time import time\n",
    "from pathlib import Path\n",
    "import os\n",
    "from datetime import datetime"
   ]
  },
  {
   "cell_type": "code",
   "execution_count": 2,
   "id": "c3a91a85",
   "metadata": {},
   "outputs": [],
   "source": [
    "final_customers_clean = pd.read_csv('final_customers_clean.csv')"
   ]
  },
  {
   "cell_type": "code",
   "execution_count": 3,
   "id": "d4928175",
   "metadata": {},
   "outputs": [],
   "source": [
    "final_fact_sales_clean = pd.read_csv('final_sales_clean_df.csv')"
   ]
  },
  {
   "cell_type": "code",
   "execution_count": 4,
   "id": "ebc27d00",
   "metadata": {},
   "outputs": [
    {
     "name": "stdout",
     "output_type": "stream",
     "text": [
      "<class 'pandas.core.frame.DataFrame'>\n",
      "RangeIndex: 24404 entries, 0 to 24403\n",
      "Data columns (total 8 columns):\n",
      " #   Column            Non-Null Count  Dtype  \n",
      "---  ------            --------------  -----  \n",
      " 0   transaction_date  24404 non-null  object \n",
      " 1   customer_id       24404 non-null  object \n",
      " 2   description       24404 non-null  object \n",
      " 3   stock_code        24404 non-null  object \n",
      " 4   invoice_no        24404 non-null  int64  \n",
      " 5   quantity          24404 non-null  int64  \n",
      " 6   sales             24404 non-null  float64\n",
      " 7   unit_price        24404 non-null  float64\n",
      "dtypes: float64(2), int64(2), object(4)\n",
      "memory usage: 1.5+ MB\n"
     ]
    }
   ],
   "source": [
    "final_fact_sales_clean.info()"
   ]
  },
  {
   "cell_type": "code",
   "execution_count": 5,
   "id": "f7a3b7b0",
   "metadata": {},
   "outputs": [
    {
     "data": {
      "text/html": [
       "<div>\n",
       "<style scoped>\n",
       "    .dataframe tbody tr th:only-of-type {\n",
       "        vertical-align: middle;\n",
       "    }\n",
       "\n",
       "    .dataframe tbody tr th {\n",
       "        vertical-align: top;\n",
       "    }\n",
       "\n",
       "    .dataframe thead th {\n",
       "        text-align: right;\n",
       "    }\n",
       "</style>\n",
       "<table border=\"1\" class=\"dataframe\">\n",
       "  <thead>\n",
       "    <tr style=\"text-align: right;\">\n",
       "      <th></th>\n",
       "      <th>transaction_date</th>\n",
       "      <th>customer_id</th>\n",
       "      <th>description</th>\n",
       "      <th>stock_code</th>\n",
       "      <th>invoice_no</th>\n",
       "      <th>quantity</th>\n",
       "      <th>sales</th>\n",
       "      <th>unit_price</th>\n",
       "    </tr>\n",
       "  </thead>\n",
       "  <tbody>\n",
       "    <tr>\n",
       "      <th>0</th>\n",
       "      <td>12/1/2020 8:26</td>\n",
       "      <td>17850</td>\n",
       "      <td>Dog and Puppy Pads</td>\n",
       "      <td>85123A</td>\n",
       "      <td>536365</td>\n",
       "      <td>1</td>\n",
       "      <td>15.30</td>\n",
       "      <td>15.30</td>\n",
       "    </tr>\n",
       "    <tr>\n",
       "      <th>1</th>\n",
       "      <td>12/1/2020 8:34</td>\n",
       "      <td>13047</td>\n",
       "      <td>Pet Odor Eliminator</td>\n",
       "      <td>84879</td>\n",
       "      <td>536367</td>\n",
       "      <td>6</td>\n",
       "      <td>60.84</td>\n",
       "      <td>10.14</td>\n",
       "    </tr>\n",
       "    <tr>\n",
       "      <th>2</th>\n",
       "      <td>12/1/2020 8:34</td>\n",
       "      <td>13047</td>\n",
       "      <td>Rechargeable Pet Nail Grinder</td>\n",
       "      <td>22960</td>\n",
       "      <td>536368</td>\n",
       "      <td>1</td>\n",
       "      <td>25.50</td>\n",
       "      <td>25.50</td>\n",
       "    </tr>\n",
       "    <tr>\n",
       "      <th>3</th>\n",
       "      <td>12/1/2020 9:00</td>\n",
       "      <td>13748</td>\n",
       "      <td>Litter Slide Multi-Cat Scented Clumping Clay C...</td>\n",
       "      <td>22086</td>\n",
       "      <td>536371</td>\n",
       "      <td>14</td>\n",
       "      <td>214.20</td>\n",
       "      <td>15.30</td>\n",
       "    </tr>\n",
       "    <tr>\n",
       "      <th>4</th>\n",
       "      <td>12/1/2020 9:02</td>\n",
       "      <td>17850</td>\n",
       "      <td>Dog and Puppy Pads</td>\n",
       "      <td>85123A</td>\n",
       "      <td>536373</td>\n",
       "      <td>1</td>\n",
       "      <td>15.30</td>\n",
       "      <td>15.30</td>\n",
       "    </tr>\n",
       "  </tbody>\n",
       "</table>\n",
       "</div>"
      ],
      "text/plain": [
       "  transaction_date customer_id  \\\n",
       "0   12/1/2020 8:26       17850   \n",
       "1   12/1/2020 8:34       13047   \n",
       "2   12/1/2020 8:34       13047   \n",
       "3   12/1/2020 9:00       13748   \n",
       "4   12/1/2020 9:02       17850   \n",
       "\n",
       "                                         description stock_code  invoice_no  \\\n",
       "0                                 Dog and Puppy Pads     85123A      536365   \n",
       "1                                Pet Odor Eliminator      84879      536367   \n",
       "2                      Rechargeable Pet Nail Grinder      22960      536368   \n",
       "3  Litter Slide Multi-Cat Scented Clumping Clay C...      22086      536371   \n",
       "4                                 Dog and Puppy Pads     85123A      536373   \n",
       "\n",
       "   quantity   sales  unit_price  \n",
       "0         1   15.30       15.30  \n",
       "1         6   60.84       10.14  \n",
       "2         1   25.50       25.50  \n",
       "3        14  214.20       15.30  \n",
       "4         1   15.30       15.30  "
      ]
     },
     "execution_count": 5,
     "metadata": {},
     "output_type": "execute_result"
    }
   ],
   "source": [
    "final_fact_sales_clean.head()"
   ]
  },
  {
   "cell_type": "code",
   "execution_count": 6,
   "id": "25b0be22",
   "metadata": {},
   "outputs": [],
   "source": [
    "products = pd.read_csv('products.csv')"
   ]
  },
  {
   "cell_type": "code",
   "execution_count": 7,
   "id": "2dec9139",
   "metadata": {},
   "outputs": [
    {
     "name": "stdout",
     "output_type": "stream",
     "text": [
      "<class 'pandas.core.frame.DataFrame'>\n",
      "RangeIndex: 20 entries, 0 to 19\n",
      "Data columns (total 6 columns):\n",
      " #   Column                   Non-Null Count  Dtype  \n",
      "---  ------                   --------------  -----  \n",
      " 0   stock_code               20 non-null     object \n",
      " 1   weight                   20 non-null     float64\n",
      " 2   landed_cost              20 non-null     float64\n",
      " 3   shipping_cost_1000_mile  20 non-null     float64\n",
      " 4   description              20 non-null     object \n",
      " 5   category                 20 non-null     object \n",
      "dtypes: float64(3), object(3)\n",
      "memory usage: 1.1+ KB\n"
     ]
    }
   ],
   "source": [
    "products.info()"
   ]
  },
  {
   "cell_type": "code",
   "execution_count": 8,
   "id": "9de57cb8",
   "metadata": {},
   "outputs": [
    {
     "data": {
      "text/plain": [
       "Food                6\n",
       "Disposables         4\n",
       "Grooming            4\n",
       "Supplements         2\n",
       "Electronics         2\n",
       "Pet Food            1\n",
       "Cleanig Supplies    1\n",
       "Name: category, dtype: int64"
      ]
     },
     "execution_count": 8,
     "metadata": {},
     "output_type": "execute_result"
    }
   ],
   "source": [
    "products.category.value_counts()"
   ]
  },
  {
   "cell_type": "markdown",
   "id": "b0f05633",
   "metadata": {},
   "source": [
    "## Number of transactions"
   ]
  },
  {
   "cell_type": "code",
   "execution_count": 9,
   "id": "badb584f",
   "metadata": {},
   "outputs": [
    {
     "data": {
      "text/plain": [
       "(24404, 8)"
      ]
     },
     "execution_count": 9,
     "metadata": {},
     "output_type": "execute_result"
    }
   ],
   "source": [
    "final_fact_sales_clean.shape"
   ]
  },
  {
   "cell_type": "code",
   "execution_count": 39,
   "id": "7476a376",
   "metadata": {},
   "outputs": [
    {
     "data": {
      "text/html": [
       "<div>\n",
       "<style scoped>\n",
       "    .dataframe tbody tr th:only-of-type {\n",
       "        vertical-align: middle;\n",
       "    }\n",
       "\n",
       "    .dataframe tbody tr th {\n",
       "        vertical-align: top;\n",
       "    }\n",
       "\n",
       "    .dataframe thead th {\n",
       "        text-align: right;\n",
       "    }\n",
       "</style>\n",
       "<table border=\"1\" class=\"dataframe\">\n",
       "  <thead>\n",
       "    <tr style=\"text-align: right;\">\n",
       "      <th></th>\n",
       "      <th>transaction_date</th>\n",
       "      <th>customer_id</th>\n",
       "      <th>description</th>\n",
       "      <th>stock_code</th>\n",
       "      <th>invoice_no</th>\n",
       "      <th>quantity</th>\n",
       "      <th>sales</th>\n",
       "      <th>unit_price</th>\n",
       "    </tr>\n",
       "  </thead>\n",
       "  <tbody>\n",
       "    <tr>\n",
       "      <th>0</th>\n",
       "      <td>12/1/2020 8:26</td>\n",
       "      <td>17850</td>\n",
       "      <td>Dog and Puppy Pads</td>\n",
       "      <td>85123A</td>\n",
       "      <td>536365</td>\n",
       "      <td>1</td>\n",
       "      <td>15.30</td>\n",
       "      <td>15.30</td>\n",
       "    </tr>\n",
       "    <tr>\n",
       "      <th>1</th>\n",
       "      <td>12/1/2020 8:34</td>\n",
       "      <td>13047</td>\n",
       "      <td>Pet Odor Eliminator</td>\n",
       "      <td>84879</td>\n",
       "      <td>536367</td>\n",
       "      <td>6</td>\n",
       "      <td>60.84</td>\n",
       "      <td>10.14</td>\n",
       "    </tr>\n",
       "    <tr>\n",
       "      <th>2</th>\n",
       "      <td>12/1/2020 8:34</td>\n",
       "      <td>13047</td>\n",
       "      <td>Rechargeable Pet Nail Grinder</td>\n",
       "      <td>22960</td>\n",
       "      <td>536368</td>\n",
       "      <td>1</td>\n",
       "      <td>25.50</td>\n",
       "      <td>25.50</td>\n",
       "    </tr>\n",
       "    <tr>\n",
       "      <th>3</th>\n",
       "      <td>12/1/2020 9:00</td>\n",
       "      <td>13748</td>\n",
       "      <td>Litter Slide Multi-Cat Scented Clumping Clay C...</td>\n",
       "      <td>22086</td>\n",
       "      <td>536371</td>\n",
       "      <td>14</td>\n",
       "      <td>214.20</td>\n",
       "      <td>15.30</td>\n",
       "    </tr>\n",
       "    <tr>\n",
       "      <th>4</th>\n",
       "      <td>12/1/2020 9:02</td>\n",
       "      <td>17850</td>\n",
       "      <td>Dog and Puppy Pads</td>\n",
       "      <td>85123A</td>\n",
       "      <td>536373</td>\n",
       "      <td>1</td>\n",
       "      <td>15.30</td>\n",
       "      <td>15.30</td>\n",
       "    </tr>\n",
       "  </tbody>\n",
       "</table>\n",
       "</div>"
      ],
      "text/plain": [
       "  transaction_date customer_id  \\\n",
       "0   12/1/2020 8:26       17850   \n",
       "1   12/1/2020 8:34       13047   \n",
       "2   12/1/2020 8:34       13047   \n",
       "3   12/1/2020 9:00       13748   \n",
       "4   12/1/2020 9:02       17850   \n",
       "\n",
       "                                         description stock_code  invoice_no  \\\n",
       "0                                 Dog and Puppy Pads     85123A      536365   \n",
       "1                                Pet Odor Eliminator      84879      536367   \n",
       "2                      Rechargeable Pet Nail Grinder      22960      536368   \n",
       "3  Litter Slide Multi-Cat Scented Clumping Clay C...      22086      536371   \n",
       "4                                 Dog and Puppy Pads     85123A      536373   \n",
       "\n",
       "   quantity   sales  unit_price  \n",
       "0         1   15.30       15.30  \n",
       "1         6   60.84       10.14  \n",
       "2         1   25.50       25.50  \n",
       "3        14  214.20       15.30  \n",
       "4         1   15.30       15.30  "
      ]
     },
     "execution_count": 39,
     "metadata": {},
     "output_type": "execute_result"
    }
   ],
   "source": [
    "final_fact_sales_clean.head()"
   ]
  },
  {
   "cell_type": "markdown",
   "id": "a1a75cb2",
   "metadata": {},
   "source": [
    "### 24404 number of transactions"
   ]
  },
  {
   "cell_type": "markdown",
   "id": "4ff8c60a",
   "metadata": {},
   "source": [
    "## Customers by state"
   ]
  },
  {
   "cell_type": "code",
   "execution_count": 21,
   "id": "980b4b2a",
   "metadata": {},
   "outputs": [],
   "source": [
    "customers_by_state=final_customers_clean.groupby(['state']).agg(customer_count=('customer_id', 'count'))"
   ]
  },
  {
   "cell_type": "code",
   "execution_count": 25,
   "id": "70d3ed8a",
   "metadata": {},
   "outputs": [],
   "source": [
    "df_customers_by_state = customers_by_state.reset_index().sort_values('customer_count', ascending=False)"
   ]
  },
  {
   "cell_type": "markdown",
   "id": "a0dc9c7a",
   "metadata": {},
   "source": [
    "## Top 15 transactions from customers by state"
   ]
  },
  {
   "cell_type": "code",
   "execution_count": 27,
   "id": "3b247e73",
   "metadata": {},
   "outputs": [],
   "source": [
    "top_15_states = df_customers_by_state.nlargest(15,'customer_count')"
   ]
  },
  {
   "cell_type": "code",
   "execution_count": 32,
   "id": "94eccaaa",
   "metadata": {},
   "outputs": [
    {
     "data": {
      "text/html": [
       "<div>\n",
       "<style scoped>\n",
       "    .dataframe tbody tr th:only-of-type {\n",
       "        vertical-align: middle;\n",
       "    }\n",
       "\n",
       "    .dataframe tbody tr th {\n",
       "        vertical-align: top;\n",
       "    }\n",
       "\n",
       "    .dataframe thead th {\n",
       "        text-align: right;\n",
       "    }\n",
       "</style>\n",
       "<table border=\"1\" class=\"dataframe\">\n",
       "  <thead>\n",
       "    <tr style=\"text-align: right;\">\n",
       "      <th></th>\n",
       "      <th>customer_count</th>\n",
       "    </tr>\n",
       "    <tr>\n",
       "      <th>state</th>\n",
       "      <th></th>\n",
       "    </tr>\n",
       "  </thead>\n",
       "  <tbody>\n",
       "    <tr>\n",
       "      <th>CA</th>\n",
       "      <td>598</td>\n",
       "    </tr>\n",
       "    <tr>\n",
       "      <th>FL</th>\n",
       "      <td>343</td>\n",
       "    </tr>\n",
       "    <tr>\n",
       "      <th>NY</th>\n",
       "      <td>318</td>\n",
       "    </tr>\n",
       "    <tr>\n",
       "      <th>TX</th>\n",
       "      <td>292</td>\n",
       "    </tr>\n",
       "    <tr>\n",
       "      <th>IL</th>\n",
       "      <td>193</td>\n",
       "    </tr>\n",
       "    <tr>\n",
       "      <th>PA</th>\n",
       "      <td>181</td>\n",
       "    </tr>\n",
       "    <tr>\n",
       "      <th>NJ</th>\n",
       "      <td>163</td>\n",
       "    </tr>\n",
       "    <tr>\n",
       "      <th>WA</th>\n",
       "      <td>132</td>\n",
       "    </tr>\n",
       "    <tr>\n",
       "      <th>VA</th>\n",
       "      <td>131</td>\n",
       "    </tr>\n",
       "    <tr>\n",
       "      <th>MA</th>\n",
       "      <td>129</td>\n",
       "    </tr>\n",
       "    <tr>\n",
       "      <th>OH</th>\n",
       "      <td>125</td>\n",
       "    </tr>\n",
       "    <tr>\n",
       "      <th>NC</th>\n",
       "      <td>121</td>\n",
       "    </tr>\n",
       "    <tr>\n",
       "      <th>GA</th>\n",
       "      <td>109</td>\n",
       "    </tr>\n",
       "    <tr>\n",
       "      <th>MD</th>\n",
       "      <td>98</td>\n",
       "    </tr>\n",
       "    <tr>\n",
       "      <th>AZ</th>\n",
       "      <td>95</td>\n",
       "    </tr>\n",
       "  </tbody>\n",
       "</table>\n",
       "</div>"
      ],
      "text/plain": [
       "       customer_count\n",
       "state                \n",
       "CA                598\n",
       "FL                343\n",
       "NY                318\n",
       "TX                292\n",
       "IL                193\n",
       "PA                181\n",
       "NJ                163\n",
       "WA                132\n",
       "VA                131\n",
       "MA                129\n",
       "OH                125\n",
       "NC                121\n",
       "GA                109\n",
       "MD                 98\n",
       "AZ                 95"
      ]
     },
     "execution_count": 32,
     "metadata": {},
     "output_type": "execute_result"
    }
   ],
   "source": [
    "top_15_states"
   ]
  },
  {
   "cell_type": "code",
   "execution_count": null,
   "id": "48925c91",
   "metadata": {},
   "outputs": [],
   "source": []
  },
  {
   "cell_type": "code",
   "execution_count": 43,
   "id": "3b3a3e06",
   "metadata": {},
   "outputs": [
    {
     "data": {
      "image/png": "[encoded data removed]",
      "text/plain": [
       "<Figure size 500x300 with 1 Axes>"
      ]
     },
     "metadata": {},
     "output_type": "display_data"
    }
   ],
   "source": [
    "sns.set(rc={'figure.figsize':(5,3)},style=\"whitegrid\")\n",
    "g = sns.barplot(y=pd.Series(final_customers_clean['state'].value_counts().nlargest(15)).index, x=pd.Series(final_customers_clean['state'].value_counts().nlargest(15)).values,color='b')\n",
    "g.set(xlabel='# customers', ylabel='US States')\n",
    "plt.title('Top 15 customer transactions by State')\n",
    "plt.yticks(fontsize=8)\n",
    "plt.xticks(fontsize=8)\n",
    "plt.show()"
   ]
  },
  {
   "cell_type": "code",
   "execution_count": 45,
   "id": "1061ce28",
   "metadata": {},
   "outputs": [
    {
     "data": {
      "text/plain": [
       "85123A    2282\n",
       "85099B    2098\n",
       "22423     2003\n",
       "47566     1690\n",
       "20725     1568\n",
       "84879     1468\n",
       "22197     1401\n",
       "22720     1390\n",
       "23203     1232\n",
       "22386     1220\n",
       "22086     1167\n",
       "23298     1153\n",
       "22960     1133\n",
       "23084     1014\n",
       "23284      733\n",
       "82484      685\n",
       "79321      672\n",
       "22114      649\n",
       "22502      470\n",
       "21137      376\n",
       "Name: stock_code, dtype: int64"
      ]
     },
     "execution_count": 45,
     "metadata": {},
     "output_type": "execute_result"
    }
   ],
   "source": [
    "final_fact_sales_clean['stock_code'].value_counts()"
   ]
  },
  {
   "cell_type": "code",
   "execution_count": 47,
   "id": "2ee9d201",
   "metadata": {},
   "outputs": [
    {
     "data": {
      "text/plain": [
       "0      22423\n",
       "1     85123A\n",
       "2      47566\n",
       "3     85099B\n",
       "4      23084\n",
       "5      22086\n",
       "6      84879\n",
       "7      79321\n",
       "8      22502\n",
       "9      22197\n",
       "10     23298\n",
       "11     22386\n",
       "12     23203\n",
       "13     21137\n",
       "14     22720\n",
       "15     23284\n",
       "16     22960\n",
       "17     82484\n",
       "18     20725\n",
       "19     22114\n",
       "Name: stock_code, dtype: object"
      ]
     },
     "execution_count": 47,
     "metadata": {},
     "output_type": "execute_result"
    }
   ],
   "source": [
    "products['stock_code']"
   ]
  },
  {
   "cell_type": "code",
   "execution_count": 48,
   "id": "b259eb8f",
   "metadata": {},
   "outputs": [
    {
     "data": {
      "text/html": [
       "<div>\n",
       "<style scoped>\n",
       "    .dataframe tbody tr th:only-of-type {\n",
       "        vertical-align: middle;\n",
       "    }\n",
       "\n",
       "    .dataframe tbody tr th {\n",
       "        vertical-align: top;\n",
       "    }\n",
       "\n",
       "    .dataframe thead th {\n",
       "        text-align: right;\n",
       "    }\n",
       "</style>\n",
       "<table border=\"1\" class=\"dataframe\">\n",
       "  <thead>\n",
       "    <tr style=\"text-align: right;\">\n",
       "      <th></th>\n",
       "      <th>customer_id</th>\n",
       "      <th>order_city</th>\n",
       "      <th>order_postal</th>\n",
       "      <th>order_state</th>\n",
       "      <th>latitude</th>\n",
       "      <th>longitude</th>\n",
       "      <th>state</th>\n",
       "      <th>region</th>\n",
       "    </tr>\n",
       "  </thead>\n",
       "  <tbody>\n",
       "    <tr>\n",
       "      <th>0</th>\n",
       "      <td>18287</td>\n",
       "      <td>Rock Springs</td>\n",
       "      <td>82901-7321</td>\n",
       "      <td>WY</td>\n",
       "      <td>41.5869</td>\n",
       "      <td>-109.2048</td>\n",
       "      <td>WY</td>\n",
       "      <td>West</td>\n",
       "    </tr>\n",
       "    <tr>\n",
       "      <th>1</th>\n",
       "      <td>18283</td>\n",
       "      <td>JACKSON</td>\n",
       "      <td>83001-9460</td>\n",
       "      <td>WY</td>\n",
       "      <td>43.4800</td>\n",
       "      <td>-110.7618</td>\n",
       "      <td>WY</td>\n",
       "      <td>West</td>\n",
       "    </tr>\n",
       "    <tr>\n",
       "      <th>2</th>\n",
       "      <td>18282</td>\n",
       "      <td>Greybull</td>\n",
       "      <td>82426</td>\n",
       "      <td>WY</td>\n",
       "      <td>44.4892</td>\n",
       "      <td>-108.0562</td>\n",
       "      <td>WY</td>\n",
       "      <td>West</td>\n",
       "    </tr>\n",
       "    <tr>\n",
       "      <th>3</th>\n",
       "      <td>18281</td>\n",
       "      <td>EVANSTON</td>\n",
       "      <td>82930-4706</td>\n",
       "      <td>WY</td>\n",
       "      <td>41.2680</td>\n",
       "      <td>-110.9633</td>\n",
       "      <td>WY</td>\n",
       "      <td>West</td>\n",
       "    </tr>\n",
       "    <tr>\n",
       "      <th>4</th>\n",
       "      <td>18280</td>\n",
       "      <td>CHEYENNE</td>\n",
       "      <td>82001-7901</td>\n",
       "      <td>WY</td>\n",
       "      <td>41.1400</td>\n",
       "      <td>-104.8202</td>\n",
       "      <td>WY</td>\n",
       "      <td>West</td>\n",
       "    </tr>\n",
       "  </tbody>\n",
       "</table>\n",
       "</div>"
      ],
      "text/plain": [
       "   customer_id    order_city order_postal order_state  latitude  longitude  \\\n",
       "0        18287  Rock Springs   82901-7321          WY   41.5869  -109.2048   \n",
       "1        18283       JACKSON   83001-9460          WY   43.4800  -110.7618   \n",
       "2        18282      Greybull        82426          WY   44.4892  -108.0562   \n",
       "3        18281      EVANSTON   82930-4706          WY   41.2680  -110.9633   \n",
       "4        18280      CHEYENNE   82001-7901          WY   41.1400  -104.8202   \n",
       "\n",
       "  state region  \n",
       "0    WY   West  \n",
       "1    WY   West  \n",
       "2    WY   West  \n",
       "3    WY   West  \n",
       "4    WY   West  "
      ]
     },
     "execution_count": 48,
     "metadata": {},
     "output_type": "execute_result"
    }
   ],
   "source": [
    "final_customers_clean.head()"
   ]
  },
  {
   "cell_type": "code",
   "execution_count": 49,
   "id": "692c2dfd",
   "metadata": {},
   "outputs": [
    {
     "data": {
      "text/plain": [
       "array(['Rock Springs', 'JACKSON', 'Greybull', ..., 'Groton', 'Tempe',\n",
       "       'Avondale'], dtype=object)"
      ]
     },
     "execution_count": 49,
     "metadata": {},
     "output_type": "execute_result"
    }
   ],
   "source": [
    "final_customers_clean['order_city'].unique()"
   ]
  },
  {
   "cell_type": "code",
   "execution_count": 73,
   "id": "bbba2c00",
   "metadata": {},
   "outputs": [],
   "source": [
    "\n",
    "# converting and overwriting values in column\n",
    "final_customers_clean[\"city\"]= list(map(lambda x: x.title(), list(final_customers_clean['order_city'])))"
   ]
  },
  {
   "cell_type": "code",
   "execution_count": 71,
   "id": "235d53a7",
   "metadata": {},
   "outputs": [],
   "source": [
    "final_customers_clean[\"city_lambda\"] = list(map(lambda x: x.title(), list(final_customers_clean['order_city'])))"
   ]
  },
  {
   "cell_type": "code",
   "execution_count": 75,
   "id": "22a1fea7",
   "metadata": {},
   "outputs": [],
   "source": [
    "final_customers_clean.drop(['city_lambda'], axis=1,inplace=True)"
   ]
  },
  {
   "cell_type": "code",
   "execution_count": 76,
   "id": "45efbcb2",
   "metadata": {},
   "outputs": [
    {
     "data": {
      "text/html": [
       "<div>\n",
       "<style scoped>\n",
       "    .dataframe tbody tr th:only-of-type {\n",
       "        vertical-align: middle;\n",
       "    }\n",
       "\n",
       "    .dataframe tbody tr th {\n",
       "        vertical-align: top;\n",
       "    }\n",
       "\n",
       "    .dataframe thead th {\n",
       "        text-align: right;\n",
       "    }\n",
       "</style>\n",
       "<table border=\"1\" class=\"dataframe\">\n",
       "  <thead>\n",
       "    <tr style=\"text-align: right;\">\n",
       "      <th></th>\n",
       "      <th>customer_id</th>\n",
       "      <th>order_city</th>\n",
       "      <th>order_postal</th>\n",
       "      <th>order_state</th>\n",
       "      <th>latitude</th>\n",
       "      <th>longitude</th>\n",
       "      <th>state</th>\n",
       "      <th>region</th>\n",
       "      <th>city</th>\n",
       "      <th>zip</th>\n",
       "    </tr>\n",
       "  </thead>\n",
       "  <tbody>\n",
       "    <tr>\n",
       "      <th>0</th>\n",
       "      <td>18287</td>\n",
       "      <td>Rock Springs</td>\n",
       "      <td>82901-7321</td>\n",
       "      <td>WY</td>\n",
       "      <td>41.5869</td>\n",
       "      <td>-109.2048</td>\n",
       "      <td>WY</td>\n",
       "      <td>West</td>\n",
       "      <td>Rock Springs</td>\n",
       "      <td>82901</td>\n",
       "    </tr>\n",
       "    <tr>\n",
       "      <th>1</th>\n",
       "      <td>18283</td>\n",
       "      <td>JACKSON</td>\n",
       "      <td>83001-9460</td>\n",
       "      <td>WY</td>\n",
       "      <td>43.4800</td>\n",
       "      <td>-110.7618</td>\n",
       "      <td>WY</td>\n",
       "      <td>West</td>\n",
       "      <td>Jackson</td>\n",
       "      <td>83001</td>\n",
       "    </tr>\n",
       "    <tr>\n",
       "      <th>2</th>\n",
       "      <td>18282</td>\n",
       "      <td>Greybull</td>\n",
       "      <td>82426</td>\n",
       "      <td>WY</td>\n",
       "      <td>44.4892</td>\n",
       "      <td>-108.0562</td>\n",
       "      <td>WY</td>\n",
       "      <td>West</td>\n",
       "      <td>Greybull</td>\n",
       "      <td>82426</td>\n",
       "    </tr>\n",
       "    <tr>\n",
       "      <th>3</th>\n",
       "      <td>18281</td>\n",
       "      <td>EVANSTON</td>\n",
       "      <td>82930-4706</td>\n",
       "      <td>WY</td>\n",
       "      <td>41.2680</td>\n",
       "      <td>-110.9633</td>\n",
       "      <td>WY</td>\n",
       "      <td>West</td>\n",
       "      <td>Evanston</td>\n",
       "      <td>82930</td>\n",
       "    </tr>\n",
       "    <tr>\n",
       "      <th>4</th>\n",
       "      <td>18280</td>\n",
       "      <td>CHEYENNE</td>\n",
       "      <td>82001-7901</td>\n",
       "      <td>WY</td>\n",
       "      <td>41.1400</td>\n",
       "      <td>-104.8202</td>\n",
       "      <td>WY</td>\n",
       "      <td>West</td>\n",
       "      <td>Cheyenne</td>\n",
       "      <td>82001</td>\n",
       "    </tr>\n",
       "  </tbody>\n",
       "</table>\n",
       "</div>"
      ],
      "text/plain": [
       "   customer_id    order_city order_postal order_state  latitude  longitude  \\\n",
       "0        18287  Rock Springs   82901-7321          WY   41.5869  -109.2048   \n",
       "1        18283       JACKSON   83001-9460          WY   43.4800  -110.7618   \n",
       "2        18282      Greybull        82426          WY   44.4892  -108.0562   \n",
       "3        18281      EVANSTON   82930-4706          WY   41.2680  -110.9633   \n",
       "4        18280      CHEYENNE   82001-7901          WY   41.1400  -104.8202   \n",
       "\n",
       "  state region          city    zip  \n",
       "0    WY   West  Rock Springs  82901  \n",
       "1    WY   West       Jackson  83001  \n",
       "2    WY   West      Greybull  82426  \n",
       "3    WY   West      Evanston  82930  \n",
       "4    WY   West      Cheyenne  82001  "
      ]
     },
     "execution_count": 76,
     "metadata": {},
     "output_type": "execute_result"
    }
   ],
   "source": [
    "final_customers_clean.head()"
   ]
  },
  {
   "cell_type": "code",
   "execution_count": 52,
   "id": "b6a70a55",
   "metadata": {},
   "outputs": [
    {
     "name": "stdout",
     "output_type": "stream",
     "text": [
      "<class 'pandas.core.frame.DataFrame'>\n",
      "RangeIndex: 4372 entries, 0 to 4371\n",
      "Data columns (total 9 columns):\n",
      " #   Column        Non-Null Count  Dtype  \n",
      "---  ------        --------------  -----  \n",
      " 0   customer_id   4372 non-null   int64  \n",
      " 1   order_city    4372 non-null   object \n",
      " 2   order_postal  4372 non-null   object \n",
      " 3   order_state   4372 non-null   object \n",
      " 4   latitude      4274 non-null   float64\n",
      " 5   longitude     4274 non-null   float64\n",
      " 6   state         4372 non-null   object \n",
      " 7   region        4350 non-null   object \n",
      " 8   city          4372 non-null   object \n",
      "dtypes: float64(2), int64(1), object(6)\n",
      "memory usage: 307.5+ KB\n"
     ]
    }
   ],
   "source": [
    "final_customers_clean.info()"
   ]
  },
  {
   "cell_type": "code",
   "execution_count": 54,
   "id": "099e3124",
   "metadata": {},
   "outputs": [],
   "source": [
    "final_customers_clean['zip'] = final_customers_clean['order_postal'].str.extract('^([^-]*)-')"
   ]
  },
  {
   "cell_type": "code",
   "execution_count": 77,
   "id": "c1a6b398",
   "metadata": {},
   "outputs": [],
   "source": [
    "final_customers_clean['zip_code'] = [i[:5] if '-' in i else i for i in list(final_customers_clean['order_postal'])]"
   ]
  },
  {
   "cell_type": "code",
   "execution_count": 78,
   "id": "fd05572e",
   "metadata": {},
   "outputs": [
    {
     "data": {
      "text/html": [
       "<div>\n",
       "<style scoped>\n",
       "    .dataframe tbody tr th:only-of-type {\n",
       "        vertical-align: middle;\n",
       "    }\n",
       "\n",
       "    .dataframe tbody tr th {\n",
       "        vertical-align: top;\n",
       "    }\n",
       "\n",
       "    .dataframe thead th {\n",
       "        text-align: right;\n",
       "    }\n",
       "</style>\n",
       "<table border=\"1\" class=\"dataframe\">\n",
       "  <thead>\n",
       "    <tr style=\"text-align: right;\">\n",
       "      <th></th>\n",
       "      <th>customer_id</th>\n",
       "      <th>order_city</th>\n",
       "      <th>order_postal</th>\n",
       "      <th>order_state</th>\n",
       "      <th>latitude</th>\n",
       "      <th>longitude</th>\n",
       "      <th>state</th>\n",
       "      <th>region</th>\n",
       "      <th>city</th>\n",
       "      <th>zip</th>\n",
       "      <th>zip_code</th>\n",
       "    </tr>\n",
       "  </thead>\n",
       "  <tbody>\n",
       "    <tr>\n",
       "      <th>0</th>\n",
       "      <td>18287</td>\n",
       "      <td>Rock Springs</td>\n",
       "      <td>82901-7321</td>\n",
       "      <td>WY</td>\n",
       "      <td>41.5869</td>\n",
       "      <td>-109.2048</td>\n",
       "      <td>WY</td>\n",
       "      <td>West</td>\n",
       "      <td>Rock Springs</td>\n",
       "      <td>82901</td>\n",
       "      <td>82901</td>\n",
       "    </tr>\n",
       "    <tr>\n",
       "      <th>1</th>\n",
       "      <td>18283</td>\n",
       "      <td>JACKSON</td>\n",
       "      <td>83001-9460</td>\n",
       "      <td>WY</td>\n",
       "      <td>43.4800</td>\n",
       "      <td>-110.7618</td>\n",
       "      <td>WY</td>\n",
       "      <td>West</td>\n",
       "      <td>Jackson</td>\n",
       "      <td>83001</td>\n",
       "      <td>83001</td>\n",
       "    </tr>\n",
       "    <tr>\n",
       "      <th>2</th>\n",
       "      <td>18282</td>\n",
       "      <td>Greybull</td>\n",
       "      <td>82426</td>\n",
       "      <td>WY</td>\n",
       "      <td>44.4892</td>\n",
       "      <td>-108.0562</td>\n",
       "      <td>WY</td>\n",
       "      <td>West</td>\n",
       "      <td>Greybull</td>\n",
       "      <td>82426</td>\n",
       "      <td>82426</td>\n",
       "    </tr>\n",
       "    <tr>\n",
       "      <th>3</th>\n",
       "      <td>18281</td>\n",
       "      <td>EVANSTON</td>\n",
       "      <td>82930-4706</td>\n",
       "      <td>WY</td>\n",
       "      <td>41.2680</td>\n",
       "      <td>-110.9633</td>\n",
       "      <td>WY</td>\n",
       "      <td>West</td>\n",
       "      <td>Evanston</td>\n",
       "      <td>82930</td>\n",
       "      <td>82930</td>\n",
       "    </tr>\n",
       "    <tr>\n",
       "      <th>4</th>\n",
       "      <td>18280</td>\n",
       "      <td>CHEYENNE</td>\n",
       "      <td>82001-7901</td>\n",
       "      <td>WY</td>\n",
       "      <td>41.1400</td>\n",
       "      <td>-104.8202</td>\n",
       "      <td>WY</td>\n",
       "      <td>West</td>\n",
       "      <td>Cheyenne</td>\n",
       "      <td>82001</td>\n",
       "      <td>82001</td>\n",
       "    </tr>\n",
       "  </tbody>\n",
       "</table>\n",
       "</div>"
      ],
      "text/plain": [
       "   customer_id    order_city order_postal order_state  latitude  longitude  \\\n",
       "0        18287  Rock Springs   82901-7321          WY   41.5869  -109.2048   \n",
       "1        18283       JACKSON   83001-9460          WY   43.4800  -110.7618   \n",
       "2        18282      Greybull        82426          WY   44.4892  -108.0562   \n",
       "3        18281      EVANSTON   82930-4706          WY   41.2680  -110.9633   \n",
       "4        18280      CHEYENNE   82001-7901          WY   41.1400  -104.8202   \n",
       "\n",
       "  state region          city    zip zip_code  \n",
       "0    WY   West  Rock Springs  82901    82901  \n",
       "1    WY   West       Jackson  83001    83001  \n",
       "2    WY   West      Greybull  82426    82426  \n",
       "3    WY   West      Evanston  82930    82930  \n",
       "4    WY   West      Cheyenne  82001    82001  "
      ]
     },
     "execution_count": 78,
     "metadata": {},
     "output_type": "execute_result"
    }
   ],
   "source": [
    "final_customers_clean.head()"
   ]
  },
  {
   "cell_type": "code",
   "execution_count": 79,
   "id": "07f38516",
   "metadata": {},
   "outputs": [],
   "source": [
    "final_customers_clean.drop(['zip'], axis=1,inplace=True)"
   ]
  },
  {
   "cell_type": "code",
   "execution_count": 80,
   "id": "5bf08b56",
   "metadata": {},
   "outputs": [
    {
     "data": {
      "text/html": [
       "<div>\n",
       "<style scoped>\n",
       "    .dataframe tbody tr th:only-of-type {\n",
       "        vertical-align: middle;\n",
       "    }\n",
       "\n",
       "    .dataframe tbody tr th {\n",
       "        vertical-align: top;\n",
       "    }\n",
       "\n",
       "    .dataframe thead th {\n",
       "        text-align: right;\n",
       "    }\n",
       "</style>\n",
       "<table border=\"1\" class=\"dataframe\">\n",
       "  <thead>\n",
       "    <tr style=\"text-align: right;\">\n",
       "      <th></th>\n",
       "      <th>customer_id</th>\n",
       "      <th>order_city</th>\n",
       "      <th>order_postal</th>\n",
       "      <th>order_state</th>\n",
       "      <th>latitude</th>\n",
       "      <th>longitude</th>\n",
       "      <th>state</th>\n",
       "      <th>region</th>\n",
       "      <th>city</th>\n",
       "      <th>zip_code</th>\n",
       "    </tr>\n",
       "  </thead>\n",
       "  <tbody>\n",
       "    <tr>\n",
       "      <th>0</th>\n",
       "      <td>18287</td>\n",
       "      <td>Rock Springs</td>\n",
       "      <td>82901-7321</td>\n",
       "      <td>WY</td>\n",
       "      <td>41.5869</td>\n",
       "      <td>-109.2048</td>\n",
       "      <td>WY</td>\n",
       "      <td>West</td>\n",
       "      <td>Rock Springs</td>\n",
       "      <td>82901</td>\n",
       "    </tr>\n",
       "    <tr>\n",
       "      <th>1</th>\n",
       "      <td>18283</td>\n",
       "      <td>JACKSON</td>\n",
       "      <td>83001-9460</td>\n",
       "      <td>WY</td>\n",
       "      <td>43.4800</td>\n",
       "      <td>-110.7618</td>\n",
       "      <td>WY</td>\n",
       "      <td>West</td>\n",
       "      <td>Jackson</td>\n",
       "      <td>83001</td>\n",
       "    </tr>\n",
       "    <tr>\n",
       "      <th>2</th>\n",
       "      <td>18282</td>\n",
       "      <td>Greybull</td>\n",
       "      <td>82426</td>\n",
       "      <td>WY</td>\n",
       "      <td>44.4892</td>\n",
       "      <td>-108.0562</td>\n",
       "      <td>WY</td>\n",
       "      <td>West</td>\n",
       "      <td>Greybull</td>\n",
       "      <td>82426</td>\n",
       "    </tr>\n",
       "    <tr>\n",
       "      <th>3</th>\n",
       "      <td>18281</td>\n",
       "      <td>EVANSTON</td>\n",
       "      <td>82930-4706</td>\n",
       "      <td>WY</td>\n",
       "      <td>41.2680</td>\n",
       "      <td>-110.9633</td>\n",
       "      <td>WY</td>\n",
       "      <td>West</td>\n",
       "      <td>Evanston</td>\n",
       "      <td>82930</td>\n",
       "    </tr>\n",
       "    <tr>\n",
       "      <th>4</th>\n",
       "      <td>18280</td>\n",
       "      <td>CHEYENNE</td>\n",
       "      <td>82001-7901</td>\n",
       "      <td>WY</td>\n",
       "      <td>41.1400</td>\n",
       "      <td>-104.8202</td>\n",
       "      <td>WY</td>\n",
       "      <td>West</td>\n",
       "      <td>Cheyenne</td>\n",
       "      <td>82001</td>\n",
       "    </tr>\n",
       "  </tbody>\n",
       "</table>\n",
       "</div>"
      ],
      "text/plain": [
       "   customer_id    order_city order_postal order_state  latitude  longitude  \\\n",
       "0        18287  Rock Springs   82901-7321          WY   41.5869  -109.2048   \n",
       "1        18283       JACKSON   83001-9460          WY   43.4800  -110.7618   \n",
       "2        18282      Greybull        82426          WY   44.4892  -108.0562   \n",
       "3        18281      EVANSTON   82930-4706          WY   41.2680  -110.9633   \n",
       "4        18280      CHEYENNE   82001-7901          WY   41.1400  -104.8202   \n",
       "\n",
       "  state region          city zip_code  \n",
       "0    WY   West  Rock Springs    82901  \n",
       "1    WY   West       Jackson    83001  \n",
       "2    WY   West      Greybull    82426  \n",
       "3    WY   West      Evanston    82930  \n",
       "4    WY   West      Cheyenne    82001  "
      ]
     },
     "execution_count": 80,
     "metadata": {},
     "output_type": "execute_result"
    }
   ],
   "source": [
    "final_customers_clean.head()"
   ]
  },
  {
   "cell_type": "code",
   "execution_count": 81,
   "id": "8d8578f7",
   "metadata": {},
   "outputs": [
    {
     "name": "stdout",
     "output_type": "stream",
     "text": [
      "<class 'pandas.core.frame.DataFrame'>\n",
      "RangeIndex: 4372 entries, 0 to 4371\n",
      "Data columns (total 10 columns):\n",
      " #   Column        Non-Null Count  Dtype  \n",
      "---  ------        --------------  -----  \n",
      " 0   customer_id   4372 non-null   int64  \n",
      " 1   order_city    4372 non-null   object \n",
      " 2   order_postal  4372 non-null   object \n",
      " 3   order_state   4372 non-null   object \n",
      " 4   latitude      4274 non-null   float64\n",
      " 5   longitude     4274 non-null   float64\n",
      " 6   state         4372 non-null   object \n",
      " 7   region        4350 non-null   object \n",
      " 8   city          4372 non-null   object \n",
      " 9   zip_code      4372 non-null   object \n",
      "dtypes: float64(2), int64(1), object(7)\n",
      "memory usage: 341.7+ KB\n"
     ]
    }
   ],
   "source": [
    "final_customers_clean.info()"
   ]
  },
  {
   "cell_type": "code",
   "execution_count": 82,
   "id": "88858219",
   "metadata": {},
   "outputs": [],
   "source": [
    "#saving this file\n",
    "csv_name = \"df_final_customers_clean.csv\"\n",
    "final_customers_clean.to_csv(csv_name, index=False)"
   ]
  },
  {
   "cell_type": "code",
   "execution_count": null,
   "id": "b5be1472",
   "metadata": {},
   "outputs": [],
   "source": []
  }
 ],
 "metadata": {
  "hide_input": false,
  "kernelspec": {
   "display_name": "Python 3 (ipykernel)",
   "language": "python",
   "name": "python3"
  },
  "language_info": {
   "codemirror_mode": {
    "name": "ipython",
    "version": 3
   },
   "file_extension": ".py",
   "mimetype": "text/x-python",
   "name": "python",
   "nbconvert_exporter": "python",
   "pygments_lexer": "ipython3",
   "version": "3.9.13"
  }
 },
 "nbformat": 4,
 "nbformat_minor": 5
}
