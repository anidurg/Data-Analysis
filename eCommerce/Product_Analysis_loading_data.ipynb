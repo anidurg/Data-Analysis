{
 "cells": [
  {
   "cell_type": "code",
   "execution_count": 1,
   "id": "4a49ec3f",
   "metadata": {},
   "outputs": [
    {
     "name": "stdout",
     "output_type": "stream",
     "text": [
      "sqlachemy version:  1.4.39\n"
     ]
    }
   ],
   "source": [
    "import pandas as pd\n",
    "import sqlalchemy\n",
    "import pymysql\n",
    "import matplotlib.pyplot as plt\n",
    "from sqlalchemy import create_engine\n",
    "print('sqlachemy version: ',sqlalchemy.__version__)\n",
    "from time import time\n",
    "from pathlib import Path\n",
    "import os\n",
    "from dotenv import load_dotenv\n",
    "#load_dotenv()\n",
    "from datetime import datetime"
   ]
  },
  {
   "cell_type": "code",
   "execution_count": 2,
   "id": "56c18d36",
   "metadata": {},
   "outputs": [],
   "source": [
    "def create_in_mysql(user, password, host, database):\n",
    "\n",
    "    # Creating Postgre SQL connection, passing user and password as arguments when running script\n",
    "    con_string=f'mysql+pymysql://{user}:{password}@{host}/{database}'\n",
    "    engine = create_engine(con_string)\n",
    "\n",
    "    # Tables to create from each csv file\n",
    "    tables = ['dim_customers','dim_products','fact_sales','state_region_mapping']\n",
    "\n",
    "    # Go thru each of the csv files to create tables and populate in Postgres\n",
    "    for table in tables:\n",
    "\n",
    "        t_start = time()\n",
    "\n",
    "        # Creating an iterator\n",
    "        df_iter = pd.read_csv(f'.\\Datasets\\{table}.csv', iterator=True, chunksize=1000, encoding = 'latin-1')\n",
    "        #df = next(df_iter)\n",
    "\n",
    "        # Getting only the columns (n=0) to create table and headers\n",
    "        if 'dim' in table:\n",
    "            table_name = table.replace('dim','tbl')\n",
    "        else:\n",
    "            pre_str = 'tbl_'\n",
    "            table_name = pre_str + table\n",
    "            \n",
    "        \n",
    "        #df.head(0).to_sql(name=table_name, con=engine, if_exists='replace', index=False)\n",
    "        #df.to_sql(name=table_name, con=engine, if_exists='append', index=False)\n",
    "\n",
    "        # While there is data, insert next chunk\n",
    "        while True: \n",
    "\n",
    "            try:\n",
    "                df = next(df_iter)\n",
    "                df.columns = [col.lower().replace(' ','_') for col in df.columns]\n",
    "                df.to_sql(name=table_name, con=engine, if_exists='append', index=False)\n",
    "                \n",
    "            except StopIteration:\n",
    "                t_end = time()\n",
    "                print(f'Table {table} created and all records inserted - %.2f seconds' % (t_end - t_start))\n",
    "                break\n"
   ]
  },
  {
   "cell_type": "code",
   "execution_count": 3,
   "id": "18eef984",
   "metadata": {},
   "outputs": [
    {
     "name": "stdout",
     "output_type": "stream",
     "text": [
      "database:  ecommerce\n",
      "Table dim_customers created and all records inserted - 0.21 seconds\n",
      "Table dim_products created and all records inserted - 0.01 seconds\n",
      "Table fact_sales created and all records inserted - 0.90 seconds\n",
      "Table state_region_mapping created and all records inserted - 0.01 seconds\n"
     ]
    }
   ],
   "source": [
    "if __name__ == '__main__':\n",
    "\n",
    "    # Loading env variables\n",
    "    load_dotenv(dotenv_path=Path('.\\.env'))\n",
    "\n",
    "    user = os.getenv('user')\n",
    "    password = os.getenv('password')\n",
    "    host = os.getenv('host')\n",
    "    #port = os.getenv('port')\n",
    "    database = os.getenv('database')\n",
    "    print(\"database: \",database)\n",
    "# Calling main function\n",
    "create_in_mysql(user, password, host,database)"
   ]
  },
  {
   "cell_type": "code",
   "execution_count": 4,
   "id": "9b0587bf",
   "metadata": {},
   "outputs": [],
   "source": [
    "# Creating Postgre SQL connection, passing user and password as arguments when running script\n",
    "con_string=f'mysql+pymysql://{user}:{password}@{host}/{database}'\n",
    "engine = create_engine(con_string)"
   ]
  },
  {
   "cell_type": "code",
   "execution_count": 5,
   "id": "7769ec88",
   "metadata": {},
   "outputs": [],
   "source": [
    "#tbl_list=  ['tbl_customers','tbl_products','tbl_fact_sales','tbl_state_region_mapping']\n",
    "def get_query_string(table):\n",
    "    query_string=\"select * from {}\".format(table)\n",
    "    query=\"\"\"\n",
    "            {}\n",
    "            \"\"\".format(query_string)\n",
    "    return query\n"
   ]
  },
  {
   "cell_type": "code",
   "execution_count": 6,
   "id": "39edc4a1",
   "metadata": {},
   "outputs": [],
   "source": [
    "df_customers = pd.read_sql(get_query_string('tbl_customers'),engine)"
   ]
  },
  {
   "cell_type": "code",
   "execution_count": 7,
   "id": "29e485a1",
   "metadata": {},
   "outputs": [
    {
     "data": {
      "text/html": [
       "<div>\n",
       "<style scoped>\n",
       "    .dataframe tbody tr th:only-of-type {\n",
       "        vertical-align: middle;\n",
       "    }\n",
       "\n",
       "    .dataframe tbody tr th {\n",
       "        vertical-align: top;\n",
       "    }\n",
       "\n",
       "    .dataframe thead th {\n",
       "        text-align: right;\n",
       "    }\n",
       "</style>\n",
       "<table border=\"1\" class=\"dataframe\">\n",
       "  <thead>\n",
       "    <tr style=\"text-align: right;\">\n",
       "      <th></th>\n",
       "      <th>customer_id</th>\n",
       "      <th>order_city</th>\n",
       "      <th>order_postal</th>\n",
       "      <th>order_state</th>\n",
       "      <th>latitude</th>\n",
       "      <th>longitude</th>\n",
       "    </tr>\n",
       "  </thead>\n",
       "  <tbody>\n",
       "    <tr>\n",
       "      <th>0</th>\n",
       "      <td>18287</td>\n",
       "      <td>Rock Springs</td>\n",
       "      <td>82901-7321</td>\n",
       "      <td>WY</td>\n",
       "      <td>41.5869</td>\n",
       "      <td>-109.2048</td>\n",
       "    </tr>\n",
       "    <tr>\n",
       "      <th>1</th>\n",
       "      <td>18283</td>\n",
       "      <td>JACKSON</td>\n",
       "      <td>83001-9460</td>\n",
       "      <td>WY</td>\n",
       "      <td>43.4800</td>\n",
       "      <td>-110.7618</td>\n",
       "    </tr>\n",
       "    <tr>\n",
       "      <th>2</th>\n",
       "      <td>18282</td>\n",
       "      <td>Greybull</td>\n",
       "      <td>82426</td>\n",
       "      <td>WY</td>\n",
       "      <td>44.4892</td>\n",
       "      <td>-108.0562</td>\n",
       "    </tr>\n",
       "    <tr>\n",
       "      <th>3</th>\n",
       "      <td>18281</td>\n",
       "      <td>EVANSTON</td>\n",
       "      <td>82930-4706</td>\n",
       "      <td>WY</td>\n",
       "      <td>41.2680</td>\n",
       "      <td>-110.9633</td>\n",
       "    </tr>\n",
       "    <tr>\n",
       "      <th>4</th>\n",
       "      <td>18280</td>\n",
       "      <td>CHEYENNE</td>\n",
       "      <td>82001-7901</td>\n",
       "      <td>WY</td>\n",
       "      <td>41.1400</td>\n",
       "      <td>-104.8202</td>\n",
       "    </tr>\n",
       "  </tbody>\n",
       "</table>\n",
       "</div>"
      ],
      "text/plain": [
       "   customer_id    order_city order_postal order_state  latitude  longitude\n",
       "0        18287  Rock Springs   82901-7321          WY   41.5869  -109.2048\n",
       "1        18283       JACKSON   83001-9460          WY   43.4800  -110.7618\n",
       "2        18282      Greybull        82426          WY   44.4892  -108.0562\n",
       "3        18281      EVANSTON   82930-4706          WY   41.2680  -110.9633\n",
       "4        18280      CHEYENNE   82001-7901          WY   41.1400  -104.8202"
      ]
     },
     "execution_count": 7,
     "metadata": {},
     "output_type": "execute_result"
    }
   ],
   "source": [
    "df_customers.head()"
   ]
  },
  {
   "cell_type": "code",
   "execution_count": 13,
   "id": "a67aa173",
   "metadata": {},
   "outputs": [],
   "source": [
    "#saving this file\n",
    "csv_name = \"customers.csv\"\n",
    "df_customers.to_csv(csv_name, index=False)"
   ]
  },
  {
   "cell_type": "code",
   "execution_count": 8,
   "id": "cef33453",
   "metadata": {},
   "outputs": [],
   "source": [
    "df_products = pd.read_sql(get_query_string('tbl_products'),engine)"
   ]
  },
  {
   "cell_type": "code",
   "execution_count": 9,
   "id": "1e9b7791",
   "metadata": {},
   "outputs": [
    {
     "data": {
      "text/html": [
       "<div>\n",
       "<style scoped>\n",
       "    .dataframe tbody tr th:only-of-type {\n",
       "        vertical-align: middle;\n",
       "    }\n",
       "\n",
       "    .dataframe tbody tr th {\n",
       "        vertical-align: top;\n",
       "    }\n",
       "\n",
       "    .dataframe thead th {\n",
       "        text-align: right;\n",
       "    }\n",
       "</style>\n",
       "<table border=\"1\" class=\"dataframe\">\n",
       "  <thead>\n",
       "    <tr style=\"text-align: right;\">\n",
       "      <th></th>\n",
       "      <th>stock_code</th>\n",
       "      <th>weight</th>\n",
       "      <th>landed_cost</th>\n",
       "      <th>shipping_cost_1000_mile</th>\n",
       "      <th>description</th>\n",
       "      <th>category</th>\n",
       "    </tr>\n",
       "  </thead>\n",
       "  <tbody>\n",
       "    <tr>\n",
       "      <th>0</th>\n",
       "      <td>22423</td>\n",
       "      <td>40.0</td>\n",
       "      <td>35.0</td>\n",
       "      <td>20.0</td>\n",
       "      <td>Taste of the Wild High Prairie Grain-Free Dry ...</td>\n",
       "      <td>Food</td>\n",
       "    </tr>\n",
       "    <tr>\n",
       "      <th>1</th>\n",
       "      <td>85123A</td>\n",
       "      <td>2.0</td>\n",
       "      <td>6.0</td>\n",
       "      <td>5.0</td>\n",
       "      <td>Dog and Puppy Pads</td>\n",
       "      <td>Disposables</td>\n",
       "    </tr>\n",
       "    <tr>\n",
       "      <th>2</th>\n",
       "      <td>47566</td>\n",
       "      <td>6.0</td>\n",
       "      <td>18.0</td>\n",
       "      <td>12.0</td>\n",
       "      <td>Memory Foam Pet Beds for Small, Medium, and La...</td>\n",
       "      <td>Disposables</td>\n",
       "    </tr>\n",
       "    <tr>\n",
       "      <th>3</th>\n",
       "      <td>85099B</td>\n",
       "      <td>2.0</td>\n",
       "      <td>5.0</td>\n",
       "      <td>4.0</td>\n",
       "      <td>Earth Rated Dog Poop Bags</td>\n",
       "      <td>Disposables</td>\n",
       "    </tr>\n",
       "    <tr>\n",
       "      <th>4</th>\n",
       "      <td>23084</td>\n",
       "      <td>2.0</td>\n",
       "      <td>6.0</td>\n",
       "      <td>6.0</td>\n",
       "      <td>Templation Soft Cat Treats</td>\n",
       "      <td>Pet Food</td>\n",
       "    </tr>\n",
       "  </tbody>\n",
       "</table>\n",
       "</div>"
      ],
      "text/plain": [
       "  stock_code  weight  landed_cost  shipping_cost_1000_mile  \\\n",
       "0      22423    40.0         35.0                     20.0   \n",
       "1     85123A     2.0          6.0                      5.0   \n",
       "2      47566     6.0         18.0                     12.0   \n",
       "3     85099B     2.0          5.0                      4.0   \n",
       "4      23084     2.0          6.0                      6.0   \n",
       "\n",
       "                                         description     category  \n",
       "0  Taste of the Wild High Prairie Grain-Free Dry ...         Food  \n",
       "1                                 Dog and Puppy Pads  Disposables  \n",
       "2  Memory Foam Pet Beds for Small, Medium, and La...  Disposables  \n",
       "3                          Earth Rated Dog Poop Bags  Disposables  \n",
       "4                         Templation Soft Cat Treats     Pet Food  "
      ]
     },
     "execution_count": 9,
     "metadata": {},
     "output_type": "execute_result"
    }
   ],
   "source": [
    "df_products.head()"
   ]
  },
  {
   "cell_type": "code",
   "execution_count": 14,
   "id": "0a9ea33a",
   "metadata": {},
   "outputs": [],
   "source": [
    "#saving this file\n",
    "csv_name = \"products.csv\"\n",
    "df_products.to_csv(csv_name, index=False)"
   ]
  },
  {
   "cell_type": "code",
   "execution_count": 19,
   "id": "a7ac7557",
   "metadata": {},
   "outputs": [],
   "source": [
    "df_fact_sales = pd.read_sql(get_query_string('tbl_fact_sales'),engine)"
   ]
  },
  {
   "cell_type": "code",
   "execution_count": 20,
   "id": "6664a305",
   "metadata": {},
   "outputs": [
    {
     "data": {
      "text/html": [
       "<div>\n",
       "<style scoped>\n",
       "    .dataframe tbody tr th:only-of-type {\n",
       "        vertical-align: middle;\n",
       "    }\n",
       "\n",
       "    .dataframe tbody tr th {\n",
       "        vertical-align: top;\n",
       "    }\n",
       "\n",
       "    .dataframe thead th {\n",
       "        text-align: right;\n",
       "    }\n",
       "</style>\n",
       "<table border=\"1\" class=\"dataframe\">\n",
       "  <thead>\n",
       "    <tr style=\"text-align: right;\">\n",
       "      <th></th>\n",
       "      <th>transaction_date</th>\n",
       "      <th>customer_id</th>\n",
       "      <th>description</th>\n",
       "      <th>stock_code</th>\n",
       "      <th>invoice_no</th>\n",
       "      <th>quantity</th>\n",
       "      <th>sales</th>\n",
       "      <th>unit_price</th>\n",
       "    </tr>\n",
       "  </thead>\n",
       "  <tbody>\n",
       "    <tr>\n",
       "      <th>0</th>\n",
       "      <td>12/1/2020 8:26</td>\n",
       "      <td>17850.0</td>\n",
       "      <td>Dog and Puppy Pads</td>\n",
       "      <td>85123A</td>\n",
       "      <td>536365.0</td>\n",
       "      <td>1</td>\n",
       "      <td>15.30</td>\n",
       "      <td>15.30</td>\n",
       "    </tr>\n",
       "    <tr>\n",
       "      <th>1</th>\n",
       "      <td>12/1/2020 8:34</td>\n",
       "      <td>13047.0</td>\n",
       "      <td>Pet Odor Eliminator</td>\n",
       "      <td>84879</td>\n",
       "      <td>536367.0</td>\n",
       "      <td>6</td>\n",
       "      <td>60.84</td>\n",
       "      <td>10.14</td>\n",
       "    </tr>\n",
       "    <tr>\n",
       "      <th>2</th>\n",
       "      <td>12/1/2020 8:34</td>\n",
       "      <td>13047.0</td>\n",
       "      <td>Rechargeable Pet Nail Grinder</td>\n",
       "      <td>22960</td>\n",
       "      <td>536368.0</td>\n",
       "      <td>1</td>\n",
       "      <td>25.50</td>\n",
       "      <td>25.50</td>\n",
       "    </tr>\n",
       "    <tr>\n",
       "      <th>3</th>\n",
       "      <td>12/1/2020 9:00</td>\n",
       "      <td>13748.0</td>\n",
       "      <td>Litter Slide Multi-Cat Scented Clumping Clay C...</td>\n",
       "      <td>22086</td>\n",
       "      <td>536371.0</td>\n",
       "      <td>14</td>\n",
       "      <td>214.20</td>\n",
       "      <td>15.30</td>\n",
       "    </tr>\n",
       "    <tr>\n",
       "      <th>4</th>\n",
       "      <td>12/1/2020 9:02</td>\n",
       "      <td>17850.0</td>\n",
       "      <td>Dog and Puppy Pads</td>\n",
       "      <td>85123A</td>\n",
       "      <td>536373.0</td>\n",
       "      <td>1</td>\n",
       "      <td>15.30</td>\n",
       "      <td>15.30</td>\n",
       "    </tr>\n",
       "  </tbody>\n",
       "</table>\n",
       "</div>"
      ],
      "text/plain": [
       "  transaction_date  customer_id  \\\n",
       "0   12/1/2020 8:26      17850.0   \n",
       "1   12/1/2020 8:34      13047.0   \n",
       "2   12/1/2020 8:34      13047.0   \n",
       "3   12/1/2020 9:00      13748.0   \n",
       "4   12/1/2020 9:02      17850.0   \n",
       "\n",
       "                                         description stock_code  invoice_no  \\\n",
       "0                                 Dog and Puppy Pads     85123A    536365.0   \n",
       "1                                Pet Odor Eliminator      84879    536367.0   \n",
       "2                      Rechargeable Pet Nail Grinder      22960    536368.0   \n",
       "3  Litter Slide Multi-Cat Scented Clumping Clay C...      22086    536371.0   \n",
       "4                                 Dog and Puppy Pads     85123A    536373.0   \n",
       "\n",
       "   quantity   sales  unit_price  \n",
       "0         1   15.30       15.30  \n",
       "1         6   60.84       10.14  \n",
       "2         1   25.50       25.50  \n",
       "3        14  214.20       15.30  \n",
       "4         1   15.30       15.30  "
      ]
     },
     "execution_count": 20,
     "metadata": {},
     "output_type": "execute_result"
    }
   ],
   "source": [
    "df_fact_sales.head()"
   ]
  },
  {
   "cell_type": "code",
   "execution_count": 18,
   "id": "709ae564",
   "metadata": {},
   "outputs": [
    {
     "name": "stdout",
     "output_type": "stream",
     "text": [
      "<class 'pandas.core.frame.DataFrame'>\n",
      "RangeIndex: 25065 entries, 0 to 25064\n",
      "Data columns (total 8 columns):\n",
      " #   Column            Non-Null Count  Dtype  \n",
      "---  ------            --------------  -----  \n",
      " 0   transaction_date  25065 non-null  object \n",
      " 1   customer_id       20649 non-null  float64\n",
      " 2   description       25065 non-null  object \n",
      " 3   stock_code        25065 non-null  object \n",
      " 4   invoice_no        24404 non-null  float64\n",
      " 5   quantity          25065 non-null  int64  \n",
      " 6   sales             25065 non-null  float64\n",
      " 7   unit_price        25065 non-null  float64\n",
      "dtypes: float64(4), int64(1), object(3)\n",
      "memory usage: 1.5+ MB\n"
     ]
    }
   ],
   "source": [
    "df_fact_sales.info()"
   ]
  },
  {
   "cell_type": "code",
   "execution_count": 23,
   "id": "b977384f",
   "metadata": {},
   "outputs": [],
   "source": [
    "# as per the client, the records with blank invoice numbers should be filtered.\n",
    "df_fact_sales_1= df_fact_sales[df_fact_sales['invoice_no'].notna()]"
   ]
  },
  {
   "cell_type": "code",
   "execution_count": 25,
   "id": "55bd0571",
   "metadata": {},
   "outputs": [
    {
     "name": "stderr",
     "output_type": "stream",
     "text": [
      "C:\\Users\\anita\\AppData\\Local\\Temp\\ipykernel_44524\\1092005556.py:1: SettingWithCopyWarning: \n",
      "A value is trying to be set on a copy of a slice from a DataFrame\n",
      "\n",
      "See the caveats in the documentation: https://pandas.pydata.org/pandas-docs/stable/user_guide/indexing.html#returning-a-view-versus-a-copy\n",
      "  df_fact_sales_1.customer_id.fillna(df_fact_sales_1.invoice_no, inplace=True)\n"
     ]
    }
   ],
   "source": [
    "df_fact_sales_1.customer_id.fillna(df_fact_sales_1.invoice_no, inplace=True)"
   ]
  },
  {
   "cell_type": "code",
   "execution_count": 26,
   "id": "bf98130e",
   "metadata": {},
   "outputs": [
    {
     "name": "stdout",
     "output_type": "stream",
     "text": [
      "<class 'pandas.core.frame.DataFrame'>\n",
      "Int64Index: 24404 entries, 0 to 25064\n",
      "Data columns (total 8 columns):\n",
      " #   Column            Non-Null Count  Dtype  \n",
      "---  ------            --------------  -----  \n",
      " 0   transaction_date  24404 non-null  object \n",
      " 1   customer_id       24404 non-null  float64\n",
      " 2   description       24404 non-null  object \n",
      " 3   stock_code        24404 non-null  object \n",
      " 4   invoice_no        24404 non-null  float64\n",
      " 5   quantity          24404 non-null  int64  \n",
      " 6   sales             24404 non-null  float64\n",
      " 7   unit_price        24404 non-null  float64\n",
      "dtypes: float64(4), int64(1), object(3)\n",
      "memory usage: 1.7+ MB\n"
     ]
    }
   ],
   "source": [
    "df_fact_sales_1.info()"
   ]
  },
  {
   "cell_type": "code",
   "execution_count": 27,
   "id": "0f04e1a8",
   "metadata": {},
   "outputs": [
    {
     "data": {
      "text/html": [
       "<div>\n",
       "<style scoped>\n",
       "    .dataframe tbody tr th:only-of-type {\n",
       "        vertical-align: middle;\n",
       "    }\n",
       "\n",
       "    .dataframe tbody tr th {\n",
       "        vertical-align: top;\n",
       "    }\n",
       "\n",
       "    .dataframe thead th {\n",
       "        text-align: right;\n",
       "    }\n",
       "</style>\n",
       "<table border=\"1\" class=\"dataframe\">\n",
       "  <thead>\n",
       "    <tr style=\"text-align: right;\">\n",
       "      <th></th>\n",
       "      <th>transaction_date</th>\n",
       "      <th>customer_id</th>\n",
       "      <th>description</th>\n",
       "      <th>stock_code</th>\n",
       "      <th>invoice_no</th>\n",
       "      <th>quantity</th>\n",
       "      <th>sales</th>\n",
       "      <th>unit_price</th>\n",
       "    </tr>\n",
       "  </thead>\n",
       "  <tbody>\n",
       "    <tr>\n",
       "      <th>0</th>\n",
       "      <td>12/1/2020 8:26</td>\n",
       "      <td>17850.0</td>\n",
       "      <td>Dog and Puppy Pads</td>\n",
       "      <td>85123A</td>\n",
       "      <td>536365.0</td>\n",
       "      <td>1</td>\n",
       "      <td>15.30</td>\n",
       "      <td>15.30</td>\n",
       "    </tr>\n",
       "    <tr>\n",
       "      <th>1</th>\n",
       "      <td>12/1/2020 8:34</td>\n",
       "      <td>13047.0</td>\n",
       "      <td>Pet Odor Eliminator</td>\n",
       "      <td>84879</td>\n",
       "      <td>536367.0</td>\n",
       "      <td>6</td>\n",
       "      <td>60.84</td>\n",
       "      <td>10.14</td>\n",
       "    </tr>\n",
       "    <tr>\n",
       "      <th>2</th>\n",
       "      <td>12/1/2020 8:34</td>\n",
       "      <td>13047.0</td>\n",
       "      <td>Rechargeable Pet Nail Grinder</td>\n",
       "      <td>22960</td>\n",
       "      <td>536368.0</td>\n",
       "      <td>1</td>\n",
       "      <td>25.50</td>\n",
       "      <td>25.50</td>\n",
       "    </tr>\n",
       "    <tr>\n",
       "      <th>3</th>\n",
       "      <td>12/1/2020 9:00</td>\n",
       "      <td>13748.0</td>\n",
       "      <td>Litter Slide Multi-Cat Scented Clumping Clay C...</td>\n",
       "      <td>22086</td>\n",
       "      <td>536371.0</td>\n",
       "      <td>14</td>\n",
       "      <td>214.20</td>\n",
       "      <td>15.30</td>\n",
       "    </tr>\n",
       "    <tr>\n",
       "      <th>4</th>\n",
       "      <td>12/1/2020 9:02</td>\n",
       "      <td>17850.0</td>\n",
       "      <td>Dog and Puppy Pads</td>\n",
       "      <td>85123A</td>\n",
       "      <td>536373.0</td>\n",
       "      <td>1</td>\n",
       "      <td>15.30</td>\n",
       "      <td>15.30</td>\n",
       "    </tr>\n",
       "  </tbody>\n",
       "</table>\n",
       "</div>"
      ],
      "text/plain": [
       "  transaction_date  customer_id  \\\n",
       "0   12/1/2020 8:26      17850.0   \n",
       "1   12/1/2020 8:34      13047.0   \n",
       "2   12/1/2020 8:34      13047.0   \n",
       "3   12/1/2020 9:00      13748.0   \n",
       "4   12/1/2020 9:02      17850.0   \n",
       "\n",
       "                                         description stock_code  invoice_no  \\\n",
       "0                                 Dog and Puppy Pads     85123A    536365.0   \n",
       "1                                Pet Odor Eliminator      84879    536367.0   \n",
       "2                      Rechargeable Pet Nail Grinder      22960    536368.0   \n",
       "3  Litter Slide Multi-Cat Scented Clumping Clay C...      22086    536371.0   \n",
       "4                                 Dog and Puppy Pads     85123A    536373.0   \n",
       "\n",
       "   quantity   sales  unit_price  \n",
       "0         1   15.30       15.30  \n",
       "1         6   60.84       10.14  \n",
       "2         1   25.50       25.50  \n",
       "3        14  214.20       15.30  \n",
       "4         1   15.30       15.30  "
      ]
     },
     "execution_count": 27,
     "metadata": {},
     "output_type": "execute_result"
    }
   ],
   "source": [
    "df_fact_sales_1.head()"
   ]
  },
  {
   "cell_type": "markdown",
   "id": "d787aa3b",
   "metadata": {},
   "source": [
    "df['ID'] = df['ID'].astype(int).astype(str)\n",
    "Or since there are NaN with:\n",
    "\n",
    "df['ID'] = df['ID'].apply(lambda x: x if pd.isnull(x) else str(int(x)))"
   ]
  },
  {
   "cell_type": "code",
   "execution_count": 28,
   "id": "cebc97d0",
   "metadata": {},
   "outputs": [
    {
     "name": "stderr",
     "output_type": "stream",
     "text": [
      "C:\\Users\\anita\\AppData\\Local\\Temp\\ipykernel_44524\\1004575832.py:1: SettingWithCopyWarning: \n",
      "A value is trying to be set on a copy of a slice from a DataFrame.\n",
      "Try using .loc[row_indexer,col_indexer] = value instead\n",
      "\n",
      "See the caveats in the documentation: https://pandas.pydata.org/pandas-docs/stable/user_guide/indexing.html#returning-a-view-versus-a-copy\n",
      "  df_fact_sales_1['customer_id'] = df_fact_sales_1['customer_id'].apply(lambda x: x if pd.isnull(x) else str(int(x)))\n"
     ]
    }
   ],
   "source": [
    "df_fact_sales_1['customer_id'] = df_fact_sales_1['customer_id'].apply(lambda x: x if pd.isnull(x) else str(int(x)))"
   ]
  },
  {
   "cell_type": "code",
   "execution_count": 30,
   "id": "8fe1410a",
   "metadata": {},
   "outputs": [
    {
     "name": "stderr",
     "output_type": "stream",
     "text": [
      "C:\\Users\\anita\\AppData\\Local\\Temp\\ipykernel_44524\\3171865490.py:1: SettingWithCopyWarning: \n",
      "A value is trying to be set on a copy of a slice from a DataFrame.\n",
      "Try using .loc[row_indexer,col_indexer] = value instead\n",
      "\n",
      "See the caveats in the documentation: https://pandas.pydata.org/pandas-docs/stable/user_guide/indexing.html#returning-a-view-versus-a-copy\n",
      "  df_fact_sales_1['invoice_no'] = df_fact_sales_1['invoice_no'].apply(lambda x: x if pd.isnull(x) else str(int(x)))\n"
     ]
    }
   ],
   "source": [
    "df_fact_sales_1['invoice_no'] = df_fact_sales_1['invoice_no'].apply(lambda x: x if pd.isnull(x) else str(int(x)))"
   ]
  },
  {
   "cell_type": "code",
   "execution_count": 31,
   "id": "d8948b46",
   "metadata": {},
   "outputs": [
    {
     "data": {
      "text/html": [
       "<div>\n",
       "<style scoped>\n",
       "    .dataframe tbody tr th:only-of-type {\n",
       "        vertical-align: middle;\n",
       "    }\n",
       "\n",
       "    .dataframe tbody tr th {\n",
       "        vertical-align: top;\n",
       "    }\n",
       "\n",
       "    .dataframe thead th {\n",
       "        text-align: right;\n",
       "    }\n",
       "</style>\n",
       "<table border=\"1\" class=\"dataframe\">\n",
       "  <thead>\n",
       "    <tr style=\"text-align: right;\">\n",
       "      <th></th>\n",
       "      <th>transaction_date</th>\n",
       "      <th>customer_id</th>\n",
       "      <th>description</th>\n",
       "      <th>stock_code</th>\n",
       "      <th>invoice_no</th>\n",
       "      <th>quantity</th>\n",
       "      <th>sales</th>\n",
       "      <th>unit_price</th>\n",
       "    </tr>\n",
       "  </thead>\n",
       "  <tbody>\n",
       "    <tr>\n",
       "      <th>0</th>\n",
       "      <td>12/1/2020 8:26</td>\n",
       "      <td>17850</td>\n",
       "      <td>Dog and Puppy Pads</td>\n",
       "      <td>85123A</td>\n",
       "      <td>536365</td>\n",
       "      <td>1</td>\n",
       "      <td>15.30</td>\n",
       "      <td>15.30</td>\n",
       "    </tr>\n",
       "    <tr>\n",
       "      <th>1</th>\n",
       "      <td>12/1/2020 8:34</td>\n",
       "      <td>13047</td>\n",
       "      <td>Pet Odor Eliminator</td>\n",
       "      <td>84879</td>\n",
       "      <td>536367</td>\n",
       "      <td>6</td>\n",
       "      <td>60.84</td>\n",
       "      <td>10.14</td>\n",
       "    </tr>\n",
       "    <tr>\n",
       "      <th>2</th>\n",
       "      <td>12/1/2020 8:34</td>\n",
       "      <td>13047</td>\n",
       "      <td>Rechargeable Pet Nail Grinder</td>\n",
       "      <td>22960</td>\n",
       "      <td>536368</td>\n",
       "      <td>1</td>\n",
       "      <td>25.50</td>\n",
       "      <td>25.50</td>\n",
       "    </tr>\n",
       "    <tr>\n",
       "      <th>3</th>\n",
       "      <td>12/1/2020 9:00</td>\n",
       "      <td>13748</td>\n",
       "      <td>Litter Slide Multi-Cat Scented Clumping Clay C...</td>\n",
       "      <td>22086</td>\n",
       "      <td>536371</td>\n",
       "      <td>14</td>\n",
       "      <td>214.20</td>\n",
       "      <td>15.30</td>\n",
       "    </tr>\n",
       "    <tr>\n",
       "      <th>4</th>\n",
       "      <td>12/1/2020 9:02</td>\n",
       "      <td>17850</td>\n",
       "      <td>Dog and Puppy Pads</td>\n",
       "      <td>85123A</td>\n",
       "      <td>536373</td>\n",
       "      <td>1</td>\n",
       "      <td>15.30</td>\n",
       "      <td>15.30</td>\n",
       "    </tr>\n",
       "  </tbody>\n",
       "</table>\n",
       "</div>"
      ],
      "text/plain": [
       "  transaction_date customer_id  \\\n",
       "0   12/1/2020 8:26       17850   \n",
       "1   12/1/2020 8:34       13047   \n",
       "2   12/1/2020 8:34       13047   \n",
       "3   12/1/2020 9:00       13748   \n",
       "4   12/1/2020 9:02       17850   \n",
       "\n",
       "                                         description stock_code invoice_no  \\\n",
       "0                                 Dog and Puppy Pads     85123A     536365   \n",
       "1                                Pet Odor Eliminator      84879     536367   \n",
       "2                      Rechargeable Pet Nail Grinder      22960     536368   \n",
       "3  Litter Slide Multi-Cat Scented Clumping Clay C...      22086     536371   \n",
       "4                                 Dog and Puppy Pads     85123A     536373   \n",
       "\n",
       "   quantity   sales  unit_price  \n",
       "0         1   15.30       15.30  \n",
       "1         6   60.84       10.14  \n",
       "2         1   25.50       25.50  \n",
       "3        14  214.20       15.30  \n",
       "4         1   15.30       15.30  "
      ]
     },
     "execution_count": 31,
     "metadata": {},
     "output_type": "execute_result"
    }
   ],
   "source": [
    "df_fact_sales_1.head()"
   ]
  },
  {
   "cell_type": "code",
   "execution_count": 34,
   "id": "e002fcc4",
   "metadata": {},
   "outputs": [
    {
     "name": "stdout",
     "output_type": "stream",
     "text": [
      "<class 'pandas.core.frame.DataFrame'>\n",
      "Int64Index: 24404 entries, 0 to 25064\n",
      "Data columns (total 8 columns):\n",
      " #   Column            Non-Null Count  Dtype  \n",
      "---  ------            --------------  -----  \n",
      " 0   transaction_date  24404 non-null  object \n",
      " 1   customer_id       24404 non-null  object \n",
      " 2   description       24404 non-null  object \n",
      " 3   stock_code        24404 non-null  object \n",
      " 4   invoice_no        24404 non-null  object \n",
      " 5   quantity          24404 non-null  int64  \n",
      " 6   sales             24404 non-null  float64\n",
      " 7   unit_price        24404 non-null  float64\n",
      "dtypes: float64(2), int64(1), object(5)\n",
      "memory usage: 1.7+ MB\n"
     ]
    }
   ],
   "source": [
    "df_fact_sales_1.info()"
   ]
  },
  {
   "cell_type": "code",
   "execution_count": 32,
   "id": "18eb59b9",
   "metadata": {},
   "outputs": [],
   "source": [
    "#saving this file\n",
    "csv_name = \"fact_sales_cleaned.csv\"\n",
    "df_fact_sales_1.to_csv(csv_name, index=False)"
   ]
  },
  {
   "cell_type": "code",
   "execution_count": 21,
   "id": "8ae58301",
   "metadata": {},
   "outputs": [],
   "source": [
    "df_state_region_mapping = pd.read_sql(get_query_string('tbl_state_region_mapping'),engine)"
   ]
  },
  {
   "cell_type": "code",
   "execution_count": 22,
   "id": "5abae3a8",
   "metadata": {},
   "outputs": [],
   "source": [
    "#saving this file\n",
    "csv_name = \"state_region_mapping.csv\"\n",
    "df_state_region_mapping.to_csv(csv_name, index=False)"
   ]
  }
 ],
 "metadata": {
  "hide_input": false,
  "kernelspec": {
   "display_name": "Python 3 (ipykernel)",
   "language": "python",
   "name": "python3"
  },
  "language_info": {
   "codemirror_mode": {
    "name": "ipython",
    "version": 3
   },
   "file_extension": ".py",
   "mimetype": "text/x-python",
   "name": "python",
   "nbconvert_exporter": "python",
   "pygments_lexer": "ipython3",
   "version": "3.9.13"
  }
 },
 "nbformat": 4,
 "nbformat_minor": 5
}
